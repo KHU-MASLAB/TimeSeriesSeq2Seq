{
 "cells": [
  {
   "cell_type": "markdown",
   "metadata": {},
   "source": [
    "# Imports"
   ]
  },
  {
   "cell_type": "code",
   "execution_count": 8,
   "metadata": {},
   "outputs": [],
   "source": [
    "import torch\n",
    "import torch.nn as nn\n",
    "from architectures.seq2seq import LSTMSeq2Seq, CNNLSTMSeq2Seq\n",
    "from architectures.seq2point import LSTMSeq2Point, CNNLSTMSeq2Point"
   ]
  },
  {
   "cell_type": "markdown",
   "metadata": {},
   "source": [
    "# Configuration\n",
    "Supports $(B,L_{in},C_{in})\\xrightarrow{network}(B,L_{out},C_{out})$ operations, where  \n",
    "$\\begin{aligned}\n",
    "B&=\\text{batch\\_size}\\\\\n",
    "L_{in}&=\\text{input\\_sequence\\_length (variable)}\\\\\n",
    "C_{in}&=\\text{input\\_embedding\\_size}\\\\\n",
    "L_{out}&=\\text{output\\_sequence\\_length (variable)}\\\\\n",
    "C_{out}&=\\text{output\\_embedding\\_size}\\\\\n",
    "\\end{aligned}$  \n",
    "- ```hidden_size``` Hidden state size of LSTM encoder.  \n",
    "- ```num_layers``` Number of stacks in CNN, LSTM encoder, LSTM decoder, and FC layers.  \n",
    "- ```bidirectional``` Whether to use bidirectional LSTM encoder.  \n",
    "- ```dropout``` Dropout rate. Applies to:  \n",
    "Residual drop path in 1DCNN  \n",
    "hidden state dropout in LSTM encoder/decoder(for every time step).    \n",
    "Unlike ```torch.nn.LSTM```, dropout is applied from the first LSTM layer.  \n",
    "- ```layernorm``` Layer normalization in LSTM encoder and decoder.  \n",
    "- ```attention``` Attention in LSTM decoder.  \n",
    "Supports ```'bahdanau'``` for Bahdanau style, ```'dotproduct'``` for Scaled Dot Product style, and ```'none``` for non-attended decoder.\n",
    "\n",
    "All network parameters are initialized from $\\mathcal{N}\\sim(0,0.01^2)$, except bias for ```torch.zeros```. See ```architectures.init```\n"
   ]
  },
  {
   "cell_type": "code",
   "execution_count": 9,
   "metadata": {},
   "outputs": [],
   "source": [
    "B = 32  # batch size\n",
    "Lin = 100  # input sequence length\n",
    "Cin = 6  # input embedding size\n",
    "Lout = 20  # output sequence length\n",
    "Cout = 50  # output embedding size\n",
    "\n",
    "hidden_size = 256  # hidden state size\n",
    "num_layers = 3  # number of (CNN, LSTM encoder, LSTM decoder, FC layer) stacks\n",
    "bidirectional = True # Bidirectionality in LSTM encoder\n",
    "dropout = 0.3  # unlike PyTorch, I apply dropout from the first LSTM layer\n",
    "layernorm = True # LayerNorm in LSTM encoder/ LSTM decoder\n",
    "attention = \"bahdanau\"  # supports Bahdanau attention for 'bahdanau', Scaled dot product attention for 'dotproduct', and 'none'"
   ]
  },
  {
   "cell_type": "markdown",
   "metadata": {},
   "source": [
    "# Create net instances and input/output"
   ]
  },
  {
   "cell_type": "code",
   "execution_count": 10,
   "metadata": {},
   "outputs": [],
   "source": [
    "x = torch.randn(B, Lin, Cin)\n",
    "y = torch.randn(B, Lout, Cout)\n",
    "\n",
    "# LSTM encoder - LSTM decoder - MLP\n",
    "seq2seq_lstm = LSTMSeq2Seq(\n",
    "    Cin, Cout, hidden_size, num_layers, bidirectional, dropout, layernorm, attention\n",
    ")  \n",
    "\n",
    "# 1DCNN+LSTM encoder - LSTM decoder - MLP\n",
    "seq2seq_cnnlstm = CNNLSTMSeq2Seq(\n",
    "    Cin, Cout, hidden_size, num_layers, bidirectional, dropout, layernorm, attention\n",
    ")\n",
    "\n",
    "# LSTM encoder - MLP\n",
    "seq2point_lstm = LSTMSeq2Point(\n",
    "    Cin, Cout, hidden_size, num_layers, bidirectional, dropout, layernorm\n",
    ")\n",
    "\n",
    "# 1DCNN+LSTM encoder - MLP\n",
    "seq2point_cnnlstm = CNNLSTMSeq2Point(\n",
    "    Cin, Cout, hidden_size, num_layers, bidirectional, dropout, layernorm\n",
    ")"
   ]
  },
  {
   "cell_type": "markdown",
   "metadata": {},
   "source": [
    "# Forward operation\n",
    "- ```x``` Input to the network. Supports $(B,L_{in},C_{in})$ only.  \n",
    "- ```teacher_forcing``` Teacher forcing ratio $\\in [0,1]$. Defaults to -1 (fully autoregressive).  \n",
    "- ```y``` Output label for teacher forcing. Supports $(B,*,C_{out})$ only. Defaults to ```None``` (fully autoregressive).  \n",
    "- ```trg_len``` Target sequence length to generate. Defaults to ```1```."
   ]
  },
  {
   "cell_type": "code",
   "execution_count": 11,
   "metadata": {},
   "outputs": [
    {
     "name": "stdout",
     "output_type": "stream",
     "text": [
      "torch.Size([32, 20, 50])\n",
      "torch.Size([32, 20, 50])\n",
      "torch.Size([32, 50])\n",
      "torch.Size([32, 50])\n"
     ]
    }
   ],
   "source": [
    "# Seq2Seq forward\n",
    "outseq_lstm = seq2seq_lstm.forward(x, y, teacher_forcing=0.5, trg_len=Lout)\n",
    "outseq_cnnlstm = seq2seq_cnnlstm.forward(x, y, teacher_forcing=0.5, trg_len=Lout)\n",
    "\n",
    "# Seq2Point forward\n",
    "outpoint_lstm = seq2point_lstm.forward(x)\n",
    "outpoint_cnnlstm = seq2point_cnnlstm.forward(x)\n",
    "\n",
    "print(outseq_lstm.shape)\n",
    "print(outseq_cnnlstm.shape)\n",
    "print(outpoint_lstm.shape)\n",
    "print(outpoint_cnnlstm.shape)"
   ]
  },
  {
   "cell_type": "markdown",
   "metadata": {},
   "source": [
    "# Accessing model properties\n",
    "- Parameters can be counted by ```model.count_params()```\n",
    "- Properties are accessed using ```model.model_info``` attribute.  \n",
    "- Another model instance can be created by ```ModelClass(**model.model_init_args)```.  \n",
    "\n",
    "These features are attributed to ```architectures.skeleton.Skeleton``` class."
   ]
  },
  {
   "cell_type": "code",
   "execution_count": 12,
   "metadata": {},
   "outputs": [
    {
     "name": "stdout",
     "output_type": "stream",
     "text": [
      "Number of trainable parameters: 10422835\n",
      "{'attention': 'bahdanau', 'bidirectional': True, 'dropout': 0.3, 'hidden_size': 256, 'input_size': 6, 'layernorm': True, 'num_layers': 3, 'output_size': 50}\n"
     ]
    }
   ],
   "source": [
    "seq2seq_lstm.count_params()\n",
    "\n",
    "model_info = seq2seq_lstm.model_info\n",
    "model_init_args = seq2seq_lstm.model_init_args\n",
    "print(model_info)\n",
    "\n",
    "another_model_instance = LSTMSeq2Seq(**model_init_args)"
   ]
  }
 ],
 "metadata": {
  "kernelspec": {
   "display_name": "kriso",
   "language": "python",
   "name": "python3"
  },
  "language_info": {
   "codemirror_mode": {
    "name": "ipython",
    "version": 3
   },
   "file_extension": ".py",
   "mimetype": "text/x-python",
   "name": "python",
   "nbconvert_exporter": "python",
   "pygments_lexer": "ipython3",
   "version": "3.10.11"
  },
  "orig_nbformat": 4
 },
 "nbformat": 4,
 "nbformat_minor": 2
}
